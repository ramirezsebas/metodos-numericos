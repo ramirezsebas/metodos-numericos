{
 "cells": [
  {
   "cell_type": "code",
   "execution_count": 1,
   "id": "3b42a48e",
   "metadata": {},
   "outputs": [
    {
     "data": {
      "text/plain": [
       "-16.666666666666668"
      ]
     },
     "execution_count": 1,
     "metadata": {},
     "output_type": "execute_result"
    }
   ],
   "source": [
    "f = {2010:20500, 2012:22600, 2016:26400}\n",
    "#f = {1:0, 4:1.386294, 6:1.791759}\n",
    "\n",
    "\n",
    "def dif_div(f, i, k=None):\n",
    "    x = [*f.keys()]\n",
    "    if k is None or i == k:\n",
    "        return f[x[i]]\n",
    "    else:\n",
    "        return (dif_div(f, i+1, k) - dif_div(f, i, k-1)) / (x[k] - x[i])\n",
    "\n",
    "dif_div(f, 0, 2)"
   ]
  },
  {
   "cell_type": "code",
   "execution_count": 2,
   "id": "da6f7358",
   "metadata": {},
   "outputs": [
    {
     "name": "stdout",
     "output_type": "stream",
     "text": [
      "P2(x) =20500.000000+1050.000000(x - 2010.000000)+-16.666667(x - 2010.000000)(x - 2012.000000)\n",
      "P2(2020.000000) = 29666.666667"
     ]
    },
    {
     "data": {
      "text/plain": [
       "29666.666666666668"
      ]
     },
     "execution_count": 2,
     "metadata": {},
     "output_type": "execute_result"
    }
   ],
   "source": [
    "def pol(f, num):\n",
    "    \n",
    "    x = [*f.keys()]\n",
    "    \n",
    "    a=0\n",
    "    pn=0\n",
    "    \n",
    "    print('P%d(x) =' % (len(f)-1), end = '')\n",
    "    \n",
    "    for i in range(0, len(f)):\n",
    "        if (i!= 0):\n",
    "            print('+', end = '')\n",
    "        \n",
    "        ai = dif_div(f, 0, i)\n",
    "        print('%f' % (ai), end = '')\n",
    "        \n",
    "        \n",
    "        mult=ai\n",
    "        for j in range(0,a):\n",
    "            print('(x - %f)' % (x[j]), end = '')\n",
    "            mult*= (num - x[j])\n",
    "    \n",
    "        pn+=mult\n",
    "        a+=1\n",
    "    \n",
    "    \n",
    "    print('\\nP%d(%f) = %f' % (len(f)-1, num, pn), end = '')\n",
    "    return pn\n",
    "    \n",
    "pol(f, 2020)"
   ]
  }
 ],
 "metadata": {
  "kernelspec": {
   "display_name": "Python 3",
   "language": "python",
   "name": "python3"
  },
  "language_info": {
   "codemirror_mode": {
    "name": "ipython",
    "version": 3
   },
   "file_extension": ".py",
   "mimetype": "text/x-python",
   "name": "python",
   "nbconvert_exporter": "python",
   "pygments_lexer": "ipython3",
   "version": "3.6.9"
  }
 },
 "nbformat": 4,
 "nbformat_minor": 5
}
