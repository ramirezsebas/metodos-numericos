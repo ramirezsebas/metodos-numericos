{
 "cells": [
  {
   "cell_type": "code",
   "execution_count": 16,
   "id": "3b42a48e",
   "metadata": {},
   "outputs": [
    {
     "data": {
      "text/plain": [
       "-16.666666666666668"
      ]
     },
     "execution_count": 16,
     "metadata": {},
     "output_type": "execute_result"
    }
   ],
   "source": [
    "f = {2010:20500, 2012:22600, 2016:26400}\n",
    "\n",
    "def dif_div(f, i, k=None):\n",
    "    x = [*f.keys()]\n",
    "    if k is None or i == k:\n",
    "        return f[x[i]]\n",
    "    else:\n",
    "        return (dif_div(f, i+1, k) - dif_div(f, i, k-1)) / (x[k] - x[i])\n",
    "\n",
    "dif_div(f, 0, 2)"
   ]
  }
 ],
 "metadata": {
  "kernelspec": {
   "display_name": "Python 3",
   "language": "python",
   "name": "python3"
  },
  "language_info": {
   "codemirror_mode": {
    "name": "ipython",
    "version": 3
   },
   "file_extension": ".py",
   "mimetype": "text/x-python",
   "name": "python",
   "nbconvert_exporter": "python",
   "pygments_lexer": "ipython3",
   "version": "3.6.9"
  }
 },
 "nbformat": 4,
 "nbformat_minor": 5
}
