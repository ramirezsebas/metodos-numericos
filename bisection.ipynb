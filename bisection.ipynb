{
 "cells": [
  {
   "cell_type": "code",
   "execution_count": 13,
   "id": "4fc14167",
   "metadata": {
    "scrolled": false
   },
   "outputs": [
    {
     "name": "stdout",
     "output_type": "stream",
     "text": [
      "Ingrese la expresión que define la función: x**3 + 4 * x**2 - 10\n",
      "El valor de la a: 1\n",
      "El valor de la b: 2\n",
      "Cantidad de decimales: 7\n",
      "(1) Especificar iteraciones o (2) Especificar error: 1\n",
      "El número de iteraciones: 7\n",
      "\n",
      "\n",
      "*** METODO DE BISECCIÓN ***\n",
      "\n",
      "k\t\tak\t\trk\t\tbk\t\tf(rk)\t\tEak\n",
      "------------------------------------------------------------------------------------------\n",
      "1\t\t1.0000000\t1.5000000\t2.0000000\t2.3750000\n",
      "2\t\t1.0000000\t1.2500000\t1.5000000\t-1.7968750\t0.2500000\n",
      "3\t\t1.2500000\t1.3750000\t1.5000000\t0.1621094\t0.1250000\n",
      "4\t\t1.2500000\t1.3125000\t1.3750000\t-0.8483887\t0.0625000\n",
      "5\t\t1.3125000\t1.3437500\t1.3750000\t-0.3509827\t0.0312500\n",
      "6\t\t1.3437500\t1.3593750\t1.3750000\t-0.0964088\t0.0156250\n",
      "7\t\t1.3593750\t1.3671875\t1.3750000\t0.0323558\t0.0078125\n",
      "\n",
      "El resultado es: 1.3671875\n"
     ]
    }
   ],
   "source": [
    "import math\n",
    "\n",
    "def bisection(exp, a, b, error=None, iteraciones=None, decimales=6):\n",
    "    # obtenemos la funcion en base a la expresion\n",
    "    def f(x):\n",
    "        f = eval(exp)\n",
    "        return f\n",
    "    # calculamos el numero de iteraciones\n",
    "    n = math.ceil(math.log2((b-a)/e))\n",
    "    \n",
    "    ak, bk, rk_ant = a, b, None\n",
    "    print('\\n\\n*** METODO DE BISECCIÓN ***')\n",
    "    print(\"\\nk\\t\\tak\\t\\trk\\t\\tbk\\t\\tf(rk)\\t\\tEak\")\n",
    "    print(\"-\" * 90)\n",
    "    for k in range(1, n+1):\n",
    "        rk = round((ak + bk) / 2, decimales)\n",
    "        eak = round(abs(rk - rk_ant), decimales) if rk_ant else None\n",
    "        \n",
    "        if eak:\n",
    "            print(\"%d\\t\\t%0.{0}f\\t%0.{0}f\\t%0.{0}f\\t%0.{0}f\\t%0.{0}f\".format(decimales) % (k, ak, rk, bk, f(rk), eak))\n",
    "        else:\n",
    "            print(\"%d\\t\\t%0.{0}f\\t%0.{0}f\\t%0.{0}f\\t%0.{0}f\".format(decimales) % (k, ak, rk, bk, f(rk)))\n",
    "            \n",
    "        if f(ak) * f(rk) < 0:\n",
    "            bk = rk\n",
    "            \n",
    "        elif f(ak) * f(rk) > 0:\n",
    "            ak = rk\n",
    "            \n",
    "        else:\n",
    "            return rk\n",
    "        rk_ant = rk\n",
    "\n",
    "    return rk\n",
    "\n",
    "# Leemos los valores\n",
    "exp = input(\"Ingrese la expresión que define la función: \")\n",
    "a = float(input(\"El valor de la a: \"))\n",
    "b = float(input(\"El valor de la b: \"))\n",
    "dec = int(input(\"Cantidad de decimales: \"))\n",
    "\n",
    "option = int(input(\"(1) Especificar iteraciones o (2) Especificar error: \"))\n",
    "if option == 1:\n",
    "    n = int(input(\"El número de iteraciones: \"))\n",
    "    r = bisection(exp, a, b, iteraciones=n, decimales=dec)\n",
    "else:\n",
    "    e = float(input(\"El valor de la tolerancia: \"))\n",
    "    r = bisection(exp, a, b, error=e, decimales=dec)\n",
    "\n",
    "print(\"\\nEl resultado es: %0.{}f\".format(dec) % r)"
   ]
  }
 ],
 "metadata": {
  "kernelspec": {
   "display_name": "Python 3",
   "language": "python",
   "name": "python3"
  },
  "language_info": {
   "codemirror_mode": {
    "name": "ipython",
    "version": 3
   },
   "file_extension": ".py",
   "mimetype": "text/x-python",
   "name": "python",
   "nbconvert_exporter": "python",
   "pygments_lexer": "ipython3",
   "version": "3.6.9"
  }
 },
 "nbformat": 4,
 "nbformat_minor": 5
}
