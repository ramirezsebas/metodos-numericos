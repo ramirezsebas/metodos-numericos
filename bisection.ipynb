{
 "cells": [
  {
   "cell_type": "code",
   "execution_count": 1,
   "id": "12656124",
   "metadata": {
    "scrolled": true
   },
   "outputs": [
    {
     "name": "stdout",
     "output_type": "stream",
     "text": [
      "First Guess: 1\n",
      "Second Guess: 2\n",
      "Tolerable Error: 0.01\n",
      "\n",
      "\n",
      "*** BISECTION METHOD IMPLEMENTATION ***\n",
      "Iteration-1, x2 = 1.500000 and f(x2) = 2.375000\n",
      "Iteration-2, x2 = 1.250000 and f(x2) = -1.796875\n",
      "Iteration-3, x2 = 1.375000 and f(x2) = 0.162109\n",
      "Iteration-4, x2 = 1.312500 and f(x2) = -0.848389\n",
      "Iteration-5, x2 = 1.343750 and f(x2) = -0.350983\n",
      "Iteration-6, x2 = 1.359375 and f(x2) = -0.096409\n",
      "Iteration-7, x2 = 1.367188 and f(x2) = 0.032356\n",
      "Iteration-8, x2 = 1.363281 and f(x2) = -0.032150\n",
      "Iteration-9, x2 = 1.365234 and f(x2) = 0.000072\n",
      "\n",
      "Required Root is : 1.36523438\n"
     ]
    }
   ],
   "source": [
    "# Defining Function\n",
    "def f(x):\n",
    "    return (x**3)+4*(x**2)-10\n",
    "\n",
    "# Implementing Bisection Method\n",
    "def bisection(x0,x1,e):\n",
    "    step = 1\n",
    "    print('\\n\\n*** BISECTION METHOD IMPLEMENTATION ***')\n",
    "    condition = True\n",
    "    while condition:\n",
    "        x2 = (x0 + x1)/2\n",
    "        print('Iteration-%d, x2 = %0.6f and f(x2) = %0.6f' % (step, x2, f(x2)))\n",
    "\n",
    "        if f(x0) * f(x2) < 0:\n",
    "            x1 = x2\n",
    "        else:\n",
    "            x0 = x2\n",
    "        \n",
    "        step = step + 1\n",
    "        condition = abs(f(x2)) > e\n",
    "\n",
    "    print('\\nRequired Root is : %0.8f' % x2)\n",
    "\n",
    "\n",
    "# Input Section\n",
    "x0 = input('First Guess: ')\n",
    "x1 = input('Second Guess: ')\n",
    "e = input('Tolerable Error: ')\n",
    "\n",
    "# Converting input to float\n",
    "x0 = float(x0)\n",
    "x1 = float(x1)\n",
    "e = float(e)\n",
    "\n",
    "#Note: You can combine above two section like this\n",
    "# x0 = float(input('First Guess: '))\n",
    "# x1 = float(input('Second Guess: '))\n",
    "# e = float(input('Tolerable Error: '))\n",
    "\n",
    "\n",
    "# Checking Correctness of initial guess values and bisecting\n",
    "if f(x0) * f(x1) > 0.0:\n",
    "    print('Given guess values do not bracket the root.')\n",
    "    print('Try Again with different guess values.')\n",
    "else:\n",
    "    bisection(x0,x1,e)"
   ]
  },
  {
   "cell_type": "code",
   "execution_count": 35,
   "id": "e5d90e30",
   "metadata": {},
   "outputs": [
    {
     "name": "stdout",
     "output_type": "stream",
     "text": [
      "Ingrese la expresión que define la función: x**3 + 4 * x**2 - 10\n",
      "El valor de la a: 1\n",
      "El valor de la b: 2\n",
      "El valor de la tolerancia: 0.01\n",
      "\n",
      "\n",
      "*** METODO DE BISECCIÓN ***\n",
      "\n",
      "k\t\tak\t\trk\t\tbk\t\tf(rk)\n",
      "--------------------------------------------------------------------------\n",
      "1\t\t1.0000000\t1.5000000\t2.0000000\t2.3750000\n",
      "2\t\t1.0000000\t1.2500000\t1.5000000\t-1.7968750\n",
      "3\t\t1.2500000\t1.3750000\t1.5000000\t0.1621094\n",
      "4\t\t1.2500000\t1.3125000\t1.3750000\t-0.8483887\n",
      "5\t\t1.3125000\t1.3437500\t1.3750000\t-0.3509827\n",
      "6\t\t1.3437500\t1.3593750\t1.3750000\t-0.0964088\n",
      "7\t\t1.3593750\t1.3671875\t1.3750000\t0.0323558\n",
      "\n",
      "El resultado es: 1.3671875\n"
     ]
    }
   ],
   "source": [
    "def bisection(exp, a, b, e):\n",
    "    # obtenemos la funcion en base a la expresion\n",
    "    def f(x):\n",
    "        f = eval(exp)\n",
    "        return f\n",
    "    # calculamos el numero de iteraciones\n",
    "    n = math.ceil(math.log2((b-a)/e))\n",
    "    \n",
    "    ak, bk = a, b\n",
    "    print('\\n\\n*** METODO DE BISECCIÓN ***')\n",
    "    print(\"\\nk\\t\\tak\\t\\trk\\t\\tbk\\t\\tf(rk)\")\n",
    "    print(\"-\" * 74)\n",
    "    for k in range(1, n+1):\n",
    "        rk = (ak + bk) / 2\n",
    "        print('%d\\t\\t%0.7f\\t%0.7f\\t%0.7f\\t%0.7f' % (k, ak, rk, bk, f(rk)))\n",
    "        \n",
    "        if f(ak) * f(rk) < 0:\n",
    "            bk = rk\n",
    "            \n",
    "        elif f(ak) * f(rk) > 0:\n",
    "            ak = rk\n",
    "            \n",
    "        else:\n",
    "            return rk\n",
    "\n",
    "    return rk\n",
    "\n",
    "# Leemos los valores\n",
    "exp = input(\"Ingrese la expresión que define la función: \")\n",
    "a = float(input(\"El valor de la a: \"))\n",
    "b = float(input(\"El valor de la b: \"))\n",
    "e = float(input(\"El valor de la tolerancia: \"))\n",
    "\n",
    "r = bisection(exp, a, b, e)\n",
    "\n",
    "print(\"\\nEl resultado es: %0.7f\" % r)"
   ]
  },
  {
   "cell_type": "code",
   "execution_count": 17,
   "id": "b3762fc9",
   "metadata": {},
   "outputs": [
    {
     "name": "stdout",
     "output_type": "stream",
     "text": [
      "k\t\tak\t\trk\t\tbk\t\tf(rk)\t\tEak\n",
      "\n"
     ]
    }
   ],
   "source": []
  }
 ],
 "metadata": {
  "kernelspec": {
   "display_name": "Python 3",
   "language": "python",
   "name": "python3"
  },
  "language_info": {
   "codemirror_mode": {
    "name": "ipython",
    "version": 3
   },
   "file_extension": ".py",
   "mimetype": "text/x-python",
   "name": "python",
   "nbconvert_exporter": "python",
   "pygments_lexer": "ipython3",
   "version": "3.6.9"
  }
 },
 "nbformat": 4,
 "nbformat_minor": 5
}
