{
 "cells": [
  {
   "cell_type": "code",
   "execution_count": 6,
   "id": "32419562",
   "metadata": {},
   "outputs": [
    {
     "name": "stdout",
     "output_type": "stream",
     "text": [
      "Condiciones iniciales: \n",
      "x0 = 0\n",
      "y0 = 0\n",
      "El punto a calcular: \n",
      "xn = 1.5\n",
      "Número de pasos:\n",
      "iteraciones = 3\n",
      "\n",
      "--------SOLUCIÓN--------\n",
      "--------------------------------------------------\n",
      "x0\t\ty0\t\tyn\n",
      "--------------------------------------------------\n",
      "0.000000\t0.000000\t0.296997\n",
      "--------------------------------------------------\n",
      "0.500000\t0.296997\t3.314312\n",
      "--------------------------------------------------\n",
      "1.000000\t3.314312\t23.986655\n",
      "--------------------------------------------------\n",
      "\n",
      "x=1.500000, y=23.986655\n"
     ]
    }
   ],
   "source": [
    "import math\n",
    "# RK-4 method python program\n",
    "\n",
    "# function to be solved\n",
    "def f(x,y):\n",
    "    return x*(math.e**(3*x)) - 2*y\n",
    "\n",
    "# or\n",
    "# f = lambda x: x+y\n",
    "\n",
    "# RK-4 method\n",
    "def rk4(x0,y0,xn,n):\n",
    "    \n",
    "    # Calculating step size\n",
    "    h = (xn-x0)/n\n",
    "    \n",
    "    print('\\n--------SOLUCIÓN--------')\n",
    "    print('--------------------------------------------------')    \n",
    "    print('x0\\t\\ty0\\t\\tyn')\n",
    "    print('--------------------------------------------------')\n",
    "    for i in range(n):\n",
    "        k1 = h * (f(x0, y0))\n",
    "        k2 = h * (f((x0+h/2), (y0+k1/2)))\n",
    "        k3 = h * (f((x0+h/2), (y0+k2/2)))\n",
    "        k4 = h * (f((x0+h), (y0+k3)))\n",
    "        k = (k1+2*k2+2*k3+k4)/6\n",
    "        yn = y0 + k\n",
    "        print('%.6f\\t%.6f\\t%.6f'% (x0,y0,yn) )\n",
    "        print('--------------------------------------------------')\n",
    "        y0 = yn\n",
    "        x0 = x0+h\n",
    "    \n",
    "    print('\\nx=%.6f, y=%.6f' %(xn,yn))\n",
    "\n",
    "# Inputs\n",
    "print('Condiciones iniciales: ')\n",
    "x0 = float(input('x0 = '))\n",
    "y0 = float(input('y0 = '))\n",
    "\n",
    "print('El punto a calcular: ')\n",
    "xn = float(input('xn = '))\n",
    "\n",
    "print('Número de pasos:')\n",
    "step = int(input('iteraciones = '))\n",
    "\n",
    "# RK4 method call\n",
    "rk4(x0,y0,xn,step)"
   ]
  }
 ],
 "metadata": {
  "kernelspec": {
   "display_name": "Python 3",
   "language": "python",
   "name": "python3"
  },
  "language_info": {
   "codemirror_mode": {
    "name": "ipython",
    "version": 3
   },
   "file_extension": ".py",
   "mimetype": "text/x-python",
   "name": "python",
   "nbconvert_exporter": "python",
   "pygments_lexer": "ipython3",
   "version": "3.6.9"
  }
 },
 "nbformat": 4,
 "nbformat_minor": 5
}
