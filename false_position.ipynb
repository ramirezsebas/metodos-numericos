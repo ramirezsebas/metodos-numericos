{
 "cells": [
  {
   "cell_type": "code",
   "execution_count": 8,
   "id": "31c4b817",
   "metadata": {},
   "outputs": [
    {
     "name": "stdout",
     "output_type": "stream",
     "text": [
      "Ingrese la expresión que define la función: x**3 + 4 * x**2 - 10\n",
      "El valor de la a: 1\n",
      "El valor de la b: 2\n",
      "(1) Especificar iteraciones o (2) Especificar error: 1\n",
      "El número de iteraciones: 7\n",
      "\n",
      "\n",
      "*** METODO DE LA FALSA POSICIÓN ***\n",
      "\n",
      "k\t\tak\t\trk\t\tbk\t\tf(rk)\n",
      "--------------------------------------------------------------------------\n",
      "1\t\t1.0000000\t1.2631579\t2.0000000\t-1.6022744\n",
      "2\t\t1.2631579\t1.3388278\t2.0000000\t-0.4303647\n",
      "3\t\t1.3388278\t1.3585463\t2.0000000\t-0.1100088\n",
      "4\t\t1.3585463\t1.3635474\t2.0000000\t-0.0277621\n",
      "5\t\t1.3635474\t1.3648070\t2.0000000\t-0.0069834\n",
      "6\t\t1.3648070\t1.3651237\t2.0000000\t-0.0017552\n",
      "7\t\t1.3651237\t1.3652033\t2.0000000\t-0.0004411\n",
      "\n",
      "El resultado es: 1.3652033\n"
     ]
    }
   ],
   "source": [
    "import math\n",
    "\n",
    "def false_position(exp, a, b, iteraciones=None, error=None):\n",
    "    # obtenemos la funcion en base a la expresion\n",
    "    def f(x):\n",
    "        f = eval(exp)\n",
    "        return f\n",
    "    # calculamos el numero de iteraciones\n",
    "    n = iteraciones if error == None else math.ceil(math.log2((b-a)/error))\n",
    "    \n",
    "    ak, bk = a, b\n",
    "    print('\\n\\n*** METODO DE LA FALSA POSICIÓN ***')\n",
    "    print(\"\\nk\\t\\tak\\t\\trk\\t\\tbk\\t\\tf(rk)\")\n",
    "    print(\"-\" * 74)\n",
    "    for k in range(1, n+1):\n",
    "        rk = ak - (f(ak) * (bk - ak)) / (f(bk) - f(ak))\n",
    "        print('%d\\t\\t%0.7f\\t%0.7f\\t%0.7f\\t%0.7f' % (k, ak, rk, bk, f(rk)))\n",
    "        \n",
    "        if f(ak) * f(rk) < 0:\n",
    "            bk = rk\n",
    "            \n",
    "        elif f(ak) * f(rk) > 0:\n",
    "            ak = rk\n",
    "            \n",
    "        else:\n",
    "            return rk\n",
    "\n",
    "    return rk\n",
    "\n",
    "# Leemos los valores\n",
    "exp = input(\"Ingrese la expresión que define la función: \")\n",
    "a = float(input(\"El valor de la a: \"))\n",
    "b = float(input(\"El valor de la b: \"))\n",
    "\n",
    "option = int(input(\"(1) Especificar iteraciones o (2) Especificar error: \"))\n",
    "if option == 1:\n",
    "    n = int(input(\"El número de iteraciones: \"))\n",
    "    r = false_position(exp, a, b, iteraciones=n)\n",
    "else:\n",
    "    e = float(input(\"El valor de la tolerancia: \"))\n",
    "    r = false_position(exp, a, b, error=e)\n",
    "\n",
    "print(\"\\nEl resultado es: %0.7f\" % r)"
   ]
  }
 ],
 "metadata": {
  "kernelspec": {
   "display_name": "Python 3",
   "language": "python",
   "name": "python3"
  },
  "language_info": {
   "codemirror_mode": {
    "name": "ipython",
    "version": 3
   },
   "file_extension": ".py",
   "mimetype": "text/x-python",
   "name": "python",
   "nbconvert_exporter": "python",
   "pygments_lexer": "ipython3",
   "version": "3.6.9"
  }
 },
 "nbformat": 4,
 "nbformat_minor": 5
}
