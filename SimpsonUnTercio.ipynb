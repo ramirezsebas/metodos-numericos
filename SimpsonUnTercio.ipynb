{
 "cells": [
  {
   "cell_type": "code",
   "execution_count": 4,
   "id": "83223581",
   "metadata": {},
   "outputs": [
    {
     "name": "stdout",
     "output_type": "stream",
     "text": [
      "impar 1.5 2.5\n",
      "par 1.5 4.0\n",
      "impar 1.5 5.5\n",
      "par 1.5 7.0\n",
      "impar 1.5 8.5\n"
     ]
    },
    {
     "data": {
      "text/plain": [
       "621.0"
      ]
     },
     "execution_count": 4,
     "metadata": {},
     "output_type": "execute_result"
    }
   ],
   "source": [
    "def smpsUnTercio(exp,a,b,n):\n",
    "    # obtenemos la funcion en base a la expresion\n",
    "    def f(x):\n",
    "        f = eval(exp)\n",
    "        return f\n",
    "\n",
    "    h= (b-a)/n\n",
    "    #print('%f  + {(1/2)*(%f  +  %f)' % (h, f(a), f(b)), end =\" \")\n",
    "    sump=0\n",
    "    sumimp=0\n",
    "    x=a\n",
    "    \n",
    "    for i in range(1, n):\n",
    "       \n",
    "        \n",
    "        x+= h\n",
    "        if (i%2 == 0):\n",
    "            print(\"par\",h, x)\n",
    "            sump+= f(x)\n",
    "\n",
    "        else:\n",
    "            print(\"impar\",h, x)\n",
    "            sumimp+= f(x)\n",
    "        \n",
    "   # print('}')\n",
    "        \n",
    "     \n",
    "    T = (h/3)*(f(a)+f(b)+2*sump+4*sumimp)\n",
    "    \n",
    "    return T\n",
    "\n",
    "smpsUnTercio(\"x**2+8*x-12\",1,10,6)"
   ]
  },
  {
   "attachments": {
    "image.png": {
     "image/png": "[encoded data removed]"
    }
   },
   "cell_type": "markdown",
   "id": "355bf5c8",
   "metadata": {},
   "source": [
    "![image.png](attachment:image.png)"
   ]
  },
  {
   "cell_type": "code",
   "execution_count": 8,
   "id": "0b327a21",
   "metadata": {},
   "outputs": [
    {
     "name": "stdout",
     "output_type": "stream",
     "text": [
      "f(0.00) = 0.00\n",
      "impar 1 1.8\n",
      "par 2 2.0\n",
      "impar 3 3.0\n",
      "par 4 4.0\n",
      "impar 5 6.0\n",
      "par 6 4.0\n",
      "impar 7 3.6\n",
      "par 8 3.4\n",
      "impar 9 2.8\n"
     ]
    },
    {
     "ename": "NameError",
     "evalue": "name 'f' is not defined",
     "output_type": "error",
     "traceback": [
      "\u001b[1;31m---------------------------------------------------------------------------\u001b[0m",
      "\u001b[1;31mNameError\u001b[0m                                 Traceback (most recent call last)",
      "\u001b[1;32m<ipython-input-8-382ade022a13>\u001b[0m in \u001b[0;36m<module>\u001b[1;34m\u001b[0m\n\u001b[0;32m     32\u001b[0m     \u001b[1;32mreturn\u001b[0m \u001b[0mT\u001b[0m\u001b[1;33m\u001b[0m\u001b[1;33m\u001b[0m\u001b[0m\n\u001b[0;32m     33\u001b[0m \u001b[1;33m\u001b[0m\u001b[0m\n\u001b[1;32m---> 34\u001b[1;33m \u001b[0msmpsUnTercio\u001b[0m\u001b[1;33m(\u001b[0m\u001b[1;33m(\u001b[0m\u001b[1;36m0\u001b[0m\u001b[1;33m,\u001b[0m\u001b[1;36m1\u001b[0m\u001b[1;33m,\u001b[0m\u001b[1;36m2\u001b[0m\u001b[1;33m,\u001b[0m\u001b[1;36m3\u001b[0m\u001b[1;33m,\u001b[0m\u001b[1;36m4\u001b[0m\u001b[1;33m,\u001b[0m\u001b[1;36m5\u001b[0m\u001b[1;33m,\u001b[0m\u001b[1;36m6\u001b[0m\u001b[1;33m,\u001b[0m\u001b[1;36m7\u001b[0m\u001b[1;33m,\u001b[0m\u001b[1;36m8\u001b[0m\u001b[1;33m,\u001b[0m\u001b[1;36m9\u001b[0m\u001b[1;33m,\u001b[0m\u001b[1;36m10\u001b[0m\u001b[1;33m)\u001b[0m\u001b[1;33m,\u001b[0m\u001b[1;33m(\u001b[0m\u001b[1;36m0.0\u001b[0m\u001b[1;33m,\u001b[0m\u001b[1;36m1.8\u001b[0m\u001b[1;33m,\u001b[0m\u001b[1;36m2.0\u001b[0m\u001b[1;33m,\u001b[0m\u001b[1;36m3.0\u001b[0m\u001b[1;33m,\u001b[0m\u001b[1;36m4.0\u001b[0m\u001b[1;33m,\u001b[0m\u001b[1;36m6.0\u001b[0m\u001b[1;33m,\u001b[0m\u001b[1;36m4.0\u001b[0m\u001b[1;33m,\u001b[0m\u001b[1;36m3.6\u001b[0m\u001b[1;33m,\u001b[0m\u001b[1;36m3.4\u001b[0m\u001b[1;33m,\u001b[0m\u001b[1;36m2.8\u001b[0m\u001b[1;33m,\u001b[0m\u001b[1;36m0.0\u001b[0m\u001b[1;33m)\u001b[0m\u001b[1;33m,\u001b[0m\u001b[1;36m0\u001b[0m\u001b[1;33m,\u001b[0m\u001b[1;36m10\u001b[0m\u001b[1;33m,\u001b[0m\u001b[1;36m10\u001b[0m\u001b[1;33m,\u001b[0m\u001b[1;36m0.2\u001b[0m\u001b[1;33m)\u001b[0m\u001b[1;33m\u001b[0m\u001b[1;33m\u001b[0m\u001b[0m\n\u001b[0m",
      "\u001b[1;32m<ipython-input-8-382ade022a13>\u001b[0m in \u001b[0;36msmpsUnTercio\u001b[1;34m(equis, valores, a, b, n, coma)\u001b[0m\n\u001b[0;32m     28\u001b[0m \u001b[1;33m\u001b[0m\u001b[0m\n\u001b[0;32m     29\u001b[0m \u001b[1;33m\u001b[0m\u001b[0m\n\u001b[1;32m---> 30\u001b[1;33m     \u001b[0mT\u001b[0m \u001b[1;33m=\u001b[0m \u001b[1;33m(\u001b[0m\u001b[0mh\u001b[0m\u001b[1;33m/\u001b[0m\u001b[1;36m3\u001b[0m\u001b[1;33m)\u001b[0m\u001b[1;33m*\u001b[0m\u001b[1;33m(\u001b[0m\u001b[0mf\u001b[0m\u001b[1;33m(\u001b[0m\u001b[0ma\u001b[0m\u001b[1;33m)\u001b[0m\u001b[1;33m+\u001b[0m\u001b[0mf\u001b[0m\u001b[1;33m(\u001b[0m\u001b[0mb\u001b[0m\u001b[1;33m)\u001b[0m\u001b[1;33m+\u001b[0m\u001b[1;36m2\u001b[0m\u001b[1;33m*\u001b[0m\u001b[0msump\u001b[0m\u001b[1;33m+\u001b[0m\u001b[1;36m4\u001b[0m\u001b[1;33m*\u001b[0m\u001b[0msumimp\u001b[0m\u001b[1;33m)\u001b[0m\u001b[1;33m\u001b[0m\u001b[1;33m\u001b[0m\u001b[0m\n\u001b[0m\u001b[0;32m     31\u001b[0m \u001b[1;33m\u001b[0m\u001b[0m\n\u001b[0;32m     32\u001b[0m     \u001b[1;32mreturn\u001b[0m \u001b[0mT\u001b[0m\u001b[1;33m\u001b[0m\u001b[1;33m\u001b[0m\u001b[0m\n",
      "\u001b[1;31mNameError\u001b[0m: name 'f' is not defined"
     ]
    }
   ],
   "source": [
    "def smpsUnTercio(equis, valores,a,b,n,coma):\n",
    "    # obtenemos la funcion en base a la expresion\n",
    "\n",
    "    h= (b-a)/n\n",
    "    #print('%f  + {(1/2)*(%f  +  %f)' % (h, f(a), f(b)), end =\" \")\n",
    "    sump=0\n",
    "    sumimp=0\n",
    "    \n",
    "    print('f(%{0}f) = %{0}f'.format(coma) % (equis[0], valores[0]))\n",
    "    fZero = valores[0]\n",
    "    fN = valores[n]\n",
    "    \n",
    "    \n",
    "    for i in range(1, n):\n",
    "       \n",
    "        fx = valores[i]\n",
    "        print('f(%{0}f) = %{0}f'.format(coma) % (equis[i], valores[i]))\n",
    "        \n",
    "        if (i%2 == 0):\n",
    "            #print(\"par\",equis[i], valores[i])\n",
    "            sump+= fx\n",
    "\n",
    "        else:\n",
    "            #print(\"impar\",equis[i], valores[i])\n",
    "            sumimp+= fx\n",
    "        \n",
    "   # print('}')\n",
    "\n",
    "    print('f(%{0}f) = %{0}f'.format(coma) % (equis[n], valores[n]))\n",
    "    \n",
    "    print('h = %{0}f'.format(coma) % (h))\n",
    "    \n",
    "    print('sumaPares = %{0}f, sumaImpares = %{0}f'.format(coma) % (sump,sumimp))\n",
    "    \n",
    "    print('\\n ACA COPIAS LA FORMULA DE ABAJO')\n",
    "    \n",
    "    print('\\n (h/3)*(f(a)+f(b)+2*sump+4*sumimp)'.format(coma) % ((h/3)*(h,fZero ,fN, sump, sumimp))\n",
    "        \n",
    "     \n",
    "    T = (h/3)*(f(a)+f(b)+2*sump+4*sumimp)\n",
    "    \n",
    "    return T\n",
    "\n",
    "smpsUnTercio((0,1,2,3,4,5,6,7,8,9,10),(0.0,1.8,2.0,3.0,4.0,6.0,4.0,3.6,3.4,2.8,0.0),0,10,10,0.2)"
   ]
  },
  {
   "cell_type": "code",
   "execution_count": null,
   "id": "f370ec13",
   "metadata": {},
   "outputs": [],
   "source": []
  }
 ],
 "metadata": {
  "kernelspec": {
   "display_name": "Python 3",
   "language": "python",
   "name": "python3"
  },
  "language_info": {
   "codemirror_mode": {
    "name": "ipython",
    "version": 3
   },
   "file_extension": ".py",
   "mimetype": "text/x-python",
   "name": "python",
   "nbconvert_exporter": "python",
   "pygments_lexer": "ipython3",
   "version": "3.8.3"
  }
 },
 "nbformat": 4,
 "nbformat_minor": 5
}
