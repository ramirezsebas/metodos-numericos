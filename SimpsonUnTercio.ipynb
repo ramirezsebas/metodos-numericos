{
 "cells": [
  {
   "cell_type": "code",
   "execution_count": 4,
   "id": "83223581",
   "metadata": {},
   "outputs": [
    {
     "name": "stdout",
     "output_type": "stream",
     "text": [
      "impar 1.5 2.5\n",
      "par 1.5 4.0\n",
      "impar 1.5 5.5\n",
      "par 1.5 7.0\n",
      "impar 1.5 8.5\n"
     ]
    },
    {
     "data": {
      "text/plain": [
       "621.0"
      ]
     },
     "execution_count": 4,
     "metadata": {},
     "output_type": "execute_result"
    }
   ],
   "source": [
    "def smpsUnTercio(exp,a,b,n):\n",
    "    # obtenemos la funcion en base a la expresion\n",
    "    def f(x):\n",
    "        f = eval(exp)\n",
    "        return f\n",
    "\n",
    "    h= (b-a)/n\n",
    "    #print('%f  + {(1/2)*(%f  +  %f)' % (h, f(a), f(b)), end =\" \")\n",
    "    sump=0\n",
    "    sumimp=0\n",
    "    x=a\n",
    "    \n",
    "    for i in range(1, n):\n",
    "       \n",
    "        \n",
    "        x+= h\n",
    "        if (i%2 == 0):\n",
    "            print(\"par\",h, x)\n",
    "            sump+= f(x)\n",
    "\n",
    "        else:\n",
    "            print(\"impar\",h, x)\n",
    "            sumimp+= f(x)\n",
    "        \n",
    "   # print('}')\n",
    "        \n",
    "     \n",
    "    T = (h/3)*(f(a)+f(b)+2*sump+4*sumimp)\n",
    "    \n",
    "    return T\n",
    "\n",
    "smpsUnTercio(\"x**2+8*x-12\",1,10,6)"
   ]
  },
  {
   "attachments": {
    "image.png": {
     "image/png": "[encoded data removed]"
    }
   },
   "cell_type": "markdown",
   "id": "355bf5c8",
   "metadata": {},
   "source": [
    "![image.png](attachment:image.png)"
   ]
  },
  {
   "cell_type": "code",
   "execution_count": 14,
   "id": "0b327a21",
   "metadata": {},
   "outputs": [
    {
     "name": "stdout",
     "output_type": "stream",
     "text": [
      "f(0.00) = 0.00\n",
      "f(1.00) = 1.80\n",
      "f(2.00) = 2.00\n",
      "f(3.00) = 3.00\n",
      "f(4.00) = 4.00\n",
      "f(5.00) = 6.00\n",
      "f(6.00) = 4.00\n",
      "f(7.00) = 3.60\n",
      "f(8.00) = 3.40\n",
      "f(9.00) = 2.80\n",
      "f(10.00) = 0.00\n",
      "h = 1.00\n",
      "sumaPares = 13.40, sumaImpares = 17.20\n",
      "\n",
      " ACA COPIAS LA FORMULA DE ABAJO\n",
      "\n",
      " (1.00/3)*(0.00+0.00+2*13.40+4*17.20)\n"
     ]
    },
    {
     "data": {
      "text/plain": [
       "31.866666666666664"
      ]
     },
     "execution_count": 14,
     "metadata": {},
     "output_type": "execute_result"
    }
   ],
   "source": [
    "def smpsUnTercio(equis, valores,a,b,n,coma):\n",
    "    # obtenemos la funcion en base a la expresion\n",
    "\n",
    "    h= (b-a)/n\n",
    "    #print('%f  + {(1/2)*(%f  +  %f)' % (h, f(a), f(b)), end =\" \")\n",
    "    sump=0\n",
    "    sumimp=0\n",
    "    \n",
    "    print('f(%{0}f) = %{0}f'.format(coma) % (equis[0], valores[0]))\n",
    "    fZero = valores[0]\n",
    "    fN = valores[n]\n",
    "    \n",
    "    \n",
    "    for i in range(1, n):\n",
    "       \n",
    "        fx = valores[i]\n",
    "        print('f(%{0}f) = %{0}f'.format(coma) % (equis[i], valores[i]))\n",
    "        \n",
    "        if (i%2 == 0):\n",
    "            #print(\"par\",equis[i], valores[i])\n",
    "            sump+= fx\n",
    "\n",
    "        else:\n",
    "            #print(\"impar\",equis[i], valores[i])\n",
    "            sumimp+= fx\n",
    "        \n",
    "   # print('}')\n",
    "\n",
    "    print('f(%{0}f) = %{0}f'.format(coma) % (equis[n], valores[n]))\n",
    "    \n",
    "    print('h = %{0}f'.format(coma) % (h))\n",
    "    \n",
    "    print('sumaPares = %{0}f, sumaImpares = %{0}f'.format(coma) % (sump,sumimp))\n",
    "    \n",
    "    print('\\n ACA COPIAS LA FORMULA DE ABAJO')\n",
    "    \n",
    "    print('\\n (%{0}f/3)*(%{0}f+%{0}f+2*%{0}f+4*%{0}f)'.format(coma) % (h,fZero ,fN, sump, sumimp))\n",
    "        \n",
    "     \n",
    "    T = (h/3)*(fZero+fN+2*sump+4*sumimp)\n",
    "    \n",
    "    return T\n",
    "\n",
    "smpsUnTercio((0,1,2,3,4,5,6,7,8,9,10),(0.0,1.8,2.0,3.0,4.0,6.0,4.0,3.6,3.4,2.8,0.0),0,10,10,0.2)"
   ]
  },
  {
   "attachments": {
    "image.png": {
     "image/png": "[encoded data removed]"
    }
   },
   "cell_type": "markdown",
   "id": "0526bfb9",
   "metadata": {},
   "source": [
    "![image.png](attachment:image.png)"
   ]
  },
  {
   "cell_type": "code",
   "execution_count": null,
   "id": "9a063276",
   "metadata": {},
   "outputs": [],
   "source": []
  }
 ],
 "metadata": {
  "kernelspec": {
   "display_name": "Python 3",
   "language": "python",
   "name": "python3"
  },
  "language_info": {
   "codemirror_mode": {
    "name": "ipython",
    "version": 3
   },
   "file_extension": ".py",
   "mimetype": "text/x-python",
   "name": "python",
   "nbconvert_exporter": "python",
   "pygments_lexer": "ipython3",
   "version": "3.8.3"
  }
 },
 "nbformat": 4,
 "nbformat_minor": 5
}
