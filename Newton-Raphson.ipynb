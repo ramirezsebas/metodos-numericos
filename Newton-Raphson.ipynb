{
 "cells": [
  {
   "cell_type": "code",
   "execution_count": 18,
   "id": "2a8b76eb",
   "metadata": {},
   "outputs": [
    {
     "name": "stdout",
     "output_type": "stream",
     "text": [
      "Ingrese la función: x**3 + 4 * x**2 - 10\n",
      "Ingrese la derivada de la función: 3 * x**2 + 8 * x\n",
      "El valor de la a; del intervalo [a,b]: 1\n",
      "El valor de la b; del intervalo [a,b]: 2\n",
      "El valor del redondeo: 7\n",
      "(1) Especificar iteraciones o (2) Especificar error: 1\n",
      "El número de iteraciones: 7\n",
      "\n",
      "k\tpk\t\tf(pk)\t\teak\n",
      "\n",
      "0\t1.0000000\t-5.0000000\n",
      "\n",
      "1\t1.4545454\t1.5401953\t0.4545455\n",
      "\n",
      "2\t1.3689004\t0.0607197\t0.0856451\n",
      "\n",
      "3\t1.3652366\t0.0001088\t0.0036638\n",
      "\n",
      "4\t1.3652300\t-0.0000001\t0.0000066\n",
      "\n",
      "5\t1.3652300\t-0.0000001\t0.0000000\n",
      "\n",
      "6\t1.3652300\t-0.0000001\t0.0000000\n",
      "\n",
      "7\t1.3652300\t-0.0000001\t0.0000000\n",
      "\n",
      "El resultado es: 1.3652300\n"
     ]
    }
   ],
   "source": [
    "import math\n",
    "\n",
    "def false_position(exp, dexp, a, b, iteraciones=None, error=None, red=None):\n",
    "    # obtenemos la funcion en base a la expresion\n",
    "    def f(x):\n",
    "        f = eval(exp)\n",
    "        return f\n",
    "    # obtenemos la funcion en base a la derivada de la expresion\n",
    "    def df(x):\n",
    "        df = eval(dexp)\n",
    "        return df\n",
    "    \n",
    "    pk = round(a,red)\n",
    "    fpk = round(f(a),red)\n",
    "    dfpk = round(df(a),red)\n",
    "    \n",
    "    print('\\nk\\tpk\\t\\tf(pk)\\t\\teak')\n",
    "    print('\\n%d\\t%0.7f\\t%0.7f' % (0, pk, fpk))\n",
    "    if(iteraciones == None):\n",
    "        iteraciones = 20\n",
    "    \n",
    "    for i in range(1, iteraciones+1):\n",
    "        \n",
    "        pkant = round(pk,red)\n",
    "        pk = round((pk - fpk/dfpk),red)\n",
    "        fpk = round((f(pk)),red)\n",
    "        dfpk = round((df(pk)),red)\n",
    "        eak = abs(round((pk - pkant),red))\n",
    "        print('\\n%d\\t%{0}f\\t%{0}f\\t%{0}f'.format((red-1)/10) % (i, pk, fpk, eak))\n",
    "        \n",
    "        if(error != None and eak<error or pk>b):\n",
    "            break\n",
    "\n",
    "    return pk\n",
    "\n",
    "# Leemos los valores\n",
    "exp = input(\"Ingrese la función: \")\n",
    "dexp = input(\"Ingrese la derivada de la función: \")\n",
    "a = float(input(\"El valor de la a; del intervalo [a,b]: \"))\n",
    "b = float(input(\"El valor de la b; del intervalo [a,b]: \"))\n",
    "re = 1+int(input(\"El valor del redondeo: \"))\n",
    "\n",
    "option = int(input(\"(1) Especificar iteraciones o (2) Especificar error: \"))\n",
    "if option == 1:\n",
    "    n = int(input(\"El número de iteraciones: \"))\n",
    "    r = false_position(exp,dexp, a, b, iteraciones=n, red = re)\n",
    "else:\n",
    "    e = float(input(\"El valor de la tolerancia: \"))\n",
    "    r = false_position(exp, dexp, a, b, error=e, red = re)\n",
    "    \n",
    "#para las Pruebas\n",
    "\"\"\"exp = \"x**3 + 4 * x**2 - 10\"\n",
    "dexp = \"3 * x**2 + 8 * x\"\n",
    "r = false_position(exp, dexp, 1, 2, iteraciones=7, red=7)\"\"\"\n",
    "\n",
    "print(\"\\nEl resultado es: %0.7f\" % r)"
   ]
  },
  {
   "cell_type": "code",
   "execution_count": 10,
   "id": "ee9703da",
   "metadata": {},
   "outputs": [
    {
     "name": "stdout",
     "output_type": "stream",
     "text": [
      "1.234555\n"
     ]
    }
   ],
   "source": [
    "i = 1.23455456464\n",
    "print(\"%f\" % i)"
   ]
  },
  {
   "cell_type": "code",
   "execution_count": 17,
   "id": "4163c64e",
   "metadata": {},
   "outputs": [
    {
     "name": "stdout",
     "output_type": "stream",
     "text": [
      "My name is John, I'm John\n"
     ]
    }
   ],
   "source": [
    "txt3 = \"My name is {0}, I'm {0}\".format(\"John\")\n",
    "print(txt3)"
   ]
  },
  {
   "cell_type": "code",
   "execution_count": null,
   "id": "e720091d",
   "metadata": {},
   "outputs": [],
   "source": []
  }
 ],
 "metadata": {
  "kernelspec": {
   "display_name": "Python 3",
   "language": "python",
   "name": "python3"
  },
  "language_info": {
   "codemirror_mode": {
    "name": "ipython",
    "version": 3
   },
   "file_extension": ".py",
   "mimetype": "text/x-python",
   "name": "python",
   "nbconvert_exporter": "python",
   "pygments_lexer": "ipython3",
   "version": "3.8.3"
  }
 },
 "nbformat": 4,
 "nbformat_minor": 5
}
