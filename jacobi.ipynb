{
 "cells": [
  {
   "cell_type": "code",
   "execution_count": 20,
   "id": "e73db555",
   "metadata": {},
   "outputs": [
    {
     "name": "stdout",
     "output_type": "stream",
     "text": [
      "iteracion 1 ->\t0.6000\t\t2.2727\t\t-1.1000\t\t1.8750\t\t\n",
      "iteracion 2 ->\t1.0473\t\t1.7159\t\t-0.8052\t\t0.8852\t\t\n",
      "iteracion 3 ->\t0.9326\t\t2.0533\t\t-1.0493\t\t1.1309\t\t\n",
      "iteracion 4 ->\t1.0152\t\t1.9537\t\t-0.9681\t\t0.9738\t\t\n",
      "iteracion 5 ->\t0.9890\t\t2.0114\t\t-1.0103\t\t1.0214\t\t\n"
     ]
    }
   ],
   "source": [
    "from pprint import pprint\n",
    "from numpy import array, zeros, diag, diagflat, dot\n",
    "\n",
    "def jacobi(A,b,N=25,x=None):\n",
    "    \"\"\"Solves the equation Ax=b via the Jacobi iterative method.\"\"\"\n",
    "    # Create an initial guess if needed                                                                                                                                                            \n",
    "    if x is None:\n",
    "        x = zeros(len(A[0]))\n",
    "\n",
    "    # Create a vector of the diagonal elements of A                                                                                                                                                \n",
    "    # and subtract them from A                                                                                                                                                                     \n",
    "    D = diag(A)\n",
    "    R = A - diagflat(D)\n",
    "\n",
    "    # Iterate for N times                                                                                                                                                                          \n",
    "    for i in range(N):\n",
    "        x = (b - dot(R,x)) / D\n",
    "        print(\"iteracion %d ->\\t\" % (i+1), end='')\n",
    "        for j in range(len(x)):\n",
    "            print(\"%.4f\\t\\t\" % x[j], end='')\n",
    "        print()\n",
    "    return x\n",
    "\n",
    "A = array([[10, -1, 2, 0],\n",
    "           [-1, 11, -1, 3],\n",
    "           [2, -1, 10, -1],\n",
    "           [0, 3, -1, 8]])\n",
    "b = array([6, 25, -11, 15])\n",
    "guess = array([1.0,1.0, 1.0, 1.0])\n",
    "\n",
    "sol = jacobi(A,b,N=5)\n"
   ]
  }
 ],
 "metadata": {
  "kernelspec": {
   "display_name": "Python 3",
   "language": "python",
   "name": "python3"
  },
  "language_info": {
   "codemirror_mode": {
    "name": "ipython",
    "version": 3
   },
   "file_extension": ".py",
   "mimetype": "text/x-python",
   "name": "python",
   "nbconvert_exporter": "python",
   "pygments_lexer": "ipython3",
   "version": "3.6.9"
  }
 },
 "nbformat": 4,
 "nbformat_minor": 5
}
