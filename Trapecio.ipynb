{
 "cells": [
  {
   "attachments": {
    "image.png": {
     "image/png": "[encoded data removed]"
    }
   },
   "cell_type": "markdown",
   "id": "c5d1d68f",
   "metadata": {},
   "source": [
    "# ![image.png](attachment:image.png)"
   ]
  },
  {
   "attachments": {
    "image-2.png": {
     "image/png": "[encoded data removed]"
    }
   },
   "cell_type": "markdown",
   "id": "db5c514c",
   "metadata": {},
   "source": [
    "![image-2.png](attachment:image-2.png)"
   ]
  },
  {
   "cell_type": "code",
   "execution_count": 32,
   "id": "dfa995ad",
   "metadata": {},
   "outputs": [
    {
     "name": "stdout",
     "output_type": "stream",
     "text": [
      "1.800000  + {(1/2)*(-3.000000  +  168.000000)  + 18.240000  + 64.200000  + 144.360000  + 265.200000 }\n"
     ]
    },
    {
     "data": {
      "text/plain": [
       "625.8599999999999"
      ]
     },
     "execution_count": 32,
     "metadata": {},
     "output_type": "execute_result"
    }
   ],
   "source": [
    "import numpy as np\n",
    "import matplotlib.pyplot as plt\n",
    "%matplotlib inline\n",
    "\n",
    "def trapz(exp,a,b,n):\n",
    "    # obtenemos la funcion en base a la expresion\n",
    "    def f(x):\n",
    "        f = eval(exp)\n",
    "        return f\n",
    "\n",
    "    h= (b-a)/n\n",
    "    print('%f  + {(1/2)*(%f  +  %f)' % (h, f(a), f(b)), end =\" \")\n",
    "    sum=0\n",
    "    for i in np.arange(a+h, b, h):\n",
    "        sum += f(i)\n",
    "        print(' + %f' % (sum), end =\" \")\n",
    "        \n",
    "    print('}')\n",
    "        \n",
    "     \n",
    "    T = h*((1/2)*(f(a)+f(b))+sum)\n",
    "    \n",
    "    return T\n",
    "\n",
    "trapz(\"x**2+8*x-12\",1,10,5)"
   ]
  },
  {
   "cell_type": "code",
   "execution_count": 25,
   "id": "e7c918a6",
   "metadata": {},
   "outputs": [
    {
     "data": {
      "text/plain": [
       "622.5"
      ]
     },
     "execution_count": 25,
     "metadata": {},
     "output_type": "execute_result"
    }
   ],
   "source": [
    "def trapz(f,a,b,N=50):\n",
    "    '''Approximate the integral of f(x) from a to b by the trapezoid rule.\n",
    "\n",
    "    The trapezoid rule approximates the integral \\int_a^b f(x) dx by the sum:\n",
    "    (dx/2) \\sum_{k=1}^N (f(x_k) + f(x_{k-1}))\n",
    "    where x_k = a + k*dx and dx = (b - a)/N.\n",
    "\n",
    "    Parameters\n",
    "    ----------\n",
    "    f : function\n",
    "        Vectorized function of a single variable\n",
    "    a , b : numbers\n",
    "        Interval of integration [a,b]\n",
    "    N : integer\n",
    "        Number of subintervals of [a,b]\n",
    "\n",
    "    Returns\n",
    "    -------\n",
    "    float\n",
    "        Approximation of the integral of f(x) from a to b using the\n",
    "        trapezoid rule with N subintervals of equal length.\n",
    "\n",
    "    Examples\n",
    "    --------\n",
    "    >>> trapz(np.sin,0,np.pi/2,1000)\n",
    "    0.9999997943832332\n",
    "    '''\n",
    "    x = np.linspace(a,b,N+1) # N+1 points make N subintervals\n",
    "    y = f(x)\n",
    "    y_right = y[1:] # right endpoints\n",
    "    y_left = y[:-1] # left endpoints\n",
    "    dx = (b - a)/N\n",
    "    T = (dx/2) * np.sum(y_right + y_left)\n",
    "    return T\n",
    "trapz(lambda x : x**2+8*x-12,1,10,9)"
   ]
  },
  {
   "cell_type": "code",
   "execution_count": null,
   "id": "f3c87a8f",
   "metadata": {},
   "outputs": [],
   "source": []
  }
 ],
 "metadata": {
  "kernelspec": {
   "display_name": "Python 3",
   "language": "python",
   "name": "python3"
  },
  "language_info": {
   "codemirror_mode": {
    "name": "ipython",
    "version": 3
   },
   "file_extension": ".py",
   "mimetype": "text/x-python",
   "name": "python",
   "nbconvert_exporter": "python",
   "pygments_lexer": "ipython3",
   "version": "3.8.3"
  }
 },
 "nbformat": 4,
 "nbformat_minor": 5
}
