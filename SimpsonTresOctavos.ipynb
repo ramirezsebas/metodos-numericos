{
 "cells": [
  {
   "cell_type": "code",
   "execution_count": 11,
   "id": "6c4cdacd",
   "metadata": {},
   "outputs": [
    {
     "data": {
      "text/plain": [
       "2.589600706693371"
      ]
     },
     "execution_count": 11,
     "metadata": {},
     "output_type": "execute_result"
    }
   ],
   "source": [
    "def smpsUnTercio(exp,a,b,n):\n",
    "    # obtenemos la funcion en base a la expresion\n",
    "    def f(x):\n",
    "        f = eval(exp)\n",
    "        return f\n",
    "\n",
    "    h= (b-a)/n\n",
    "    #print('%f  + {(1/2)*(%f  +  %f)' % (h, f(a), f(b)), end =\" \")\n",
    "    sum1=0\n",
    "    sum2=0\n",
    "    sum3=0\n",
    "    x=a\n",
    "    \n",
    "    ok=1\n",
    "    for i in range(1, n):\n",
    "        \n",
    "        x+= h\n",
    "        if (ok==1):\n",
    "            ok=2\n",
    "            sum1+= f(x)\n",
    "\n",
    "        elif (ok == 2):\n",
    "            ok=3\n",
    "            sum2+= f(x)\n",
    "        else:\n",
    "            ok=1\n",
    "            sum3+= f(x)\n",
    "        \n",
    "   # print('}')\n",
    "        \n",
    "     \n",
    "    T = (3*h/8)*(f(a)+f(b)+3*sum1+3*sum2+2*sum3)\n",
    "    \n",
    "    return T\n",
    "\n",
    "#smpsUnTercio(\"x**2+8*x-12\",1,10,9)\n",
    "\n",
    "smpsUnTercio(\"x**(1/2)\",1,3,4)"
   ]
  },
  {
   "cell_type": "code",
   "execution_count": null,
   "id": "a92e115a",
   "metadata": {},
   "outputs": [],
   "source": []
  }
 ],
 "metadata": {
  "kernelspec": {
   "display_name": "Python 3",
   "language": "python",
   "name": "python3"
  },
  "language_info": {
   "codemirror_mode": {
    "name": "ipython",
    "version": 3
   },
   "file_extension": ".py",
   "mimetype": "text/x-python",
   "name": "python",
   "nbconvert_exporter": "python",
   "pygments_lexer": "ipython3",
   "version": "3.8.3"
  }
 },
 "nbformat": 4,
 "nbformat_minor": 5
}
