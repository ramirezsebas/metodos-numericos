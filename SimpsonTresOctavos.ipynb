{
 "cells": [
  {
   "cell_type": "code",
   "execution_count": 3,
   "id": "6c4cdacd",
   "metadata": {},
   "outputs": [
    {
     "name": "stdout",
     "output_type": "stream",
     "text": [
      "1.5 1\n",
      "2.0 2\n",
      "2.5 3\n"
     ]
    },
    {
     "data": {
      "text/plain": [
       "2.589600706693371"
      ]
     },
     "execution_count": 3,
     "metadata": {},
     "output_type": "execute_result"
    }
   ],
   "source": [
    "def smpsUnTercio(exp,a,b,n):\n",
    "    # obtenemos la funcion en base a la expresion\n",
    "    def f(x):\n",
    "        f = eval(exp)\n",
    "        return f\n",
    "\n",
    "    h= (b-a)/n\n",
    "    #print('%f  + {(1/2)*(%f  +  %f)' % (h, f(a), f(b)), end =\" \")\n",
    "    sum1=0\n",
    "    sum2=0\n",
    "    sum3=0\n",
    "    x=a\n",
    "    \n",
    "    ok=1\n",
    "    for i in range(1, n):\n",
    "        \n",
    "        x+= h\n",
    "        if (ok==1):\n",
    "            print(x,1)\n",
    "            ok=2\n",
    "            sum1+= f(x)\n",
    "\n",
    "        elif (ok == 2):\n",
    "            print(x,2)\n",
    "            ok=3\n",
    "            sum2+= f(x)\n",
    "        else:\n",
    "            print(x,3)\n",
    "            ok=1\n",
    "            sum3+= f(x)\n",
    "        \n",
    "   # print('}')\n",
    "        \n",
    "     \n",
    "    T = (3*h/8)*(f(a)+f(b)+3*sum1+3*sum2+2*sum3)\n",
    "    \n",
    "    return T\n",
    "\n",
    "#smpsUnTercio(\"x**2+8*x-12\",1,10,9)\n",
    "\n",
    "smpsUnTercio(\"x**(1/2)\",1,3,4)"
   ]
  },
  {
   "cell_type": "code",
   "execution_count": 52,
   "id": "a92e115a",
   "metadata": {},
   "outputs": [
    {
     "name": "stdout",
     "output_type": "stream",
     "text": [
      "f(1.00) = 1.80\n",
      "f(2.00) = 2.00\n",
      "f(3.00) = 3.00\n",
      "f(4.00) = 4.00\n",
      "f(5.00) = 6.00\n",
      "f(6.00) = 4.00\n",
      "f(7.00) = 3.60\n",
      "f(8.00) = 3.40\n",
      "f(9.00) = 2.80\n",
      "f(10.00) = 0.00\n",
      "h = 1.00\n",
      "sum1 = 11.40, sum2 = 9.80, sum3 = 7.60\n",
      "\n",
      " ACA COPIAS LA FORMULA DE ABAJO\n",
      "\n",
      " (3*1.00/8)*(1.80+0.00+3*11.40+3*9.80+2*7.60)\n"
     ]
    },
    {
     "data": {
      "text/plain": [
       "30.225"
      ]
     },
     "execution_count": 52,
     "metadata": {},
     "output_type": "execute_result"
    }
   ],
   "source": [
    "def smpsTresOctavos(equis, valores ,a,b,n,coma):\n",
    "    # obtenemos la funcion en base a la expresion\n",
    "    \n",
    "    h= (b-a)/n\n",
    "    #print('%f  + {(1/2)*(%f  +  %f)' % (h, f(a), f(b)), end =\" \")\n",
    "    sum1=0\n",
    "    sum2=0\n",
    "    sum3=0\n",
    "    \n",
    "    ok=1\n",
    "    \n",
    "    print('f(%{0}f) = %{0}f'.format(coma) % (equis[0], valores[0]))\n",
    "    \n",
    "    fZero = valores[0]\n",
    "    fN = valores[n]\n",
    "    for i in range(1, n):\n",
    "        \n",
    "        fx = valores[i]\n",
    "        \n",
    "        print('f(%{0}f) = %{0}f'.format(coma) % (equis[i], valores[i]))\n",
    "        if (ok==1):\n",
    "            #print(equis[i],1)\n",
    "            ok=2\n",
    "            sum1+= fx\n",
    "\n",
    "        elif (ok == 2):\n",
    "            #print(equis[i],2)\n",
    "            ok=3\n",
    "            sum2+= fx\n",
    "        else:\n",
    "            #print(equis[i],3)\n",
    "            ok=1\n",
    "            sum3+= fx\n",
    "        \n",
    "   # print('}')\n",
    "    print('f(%{0}f) = %{0}f'.format(coma) % (equis[n], valores[n]))\n",
    "    \n",
    "    print('h = %{0}f'.format(coma) % (h))\n",
    "    \n",
    "    print('sum1 = %{0}f, sum2 = %{0}f, sum3 = %{0}f'.format(coma) % (sum1,sum2,sum3))\n",
    "    \n",
    "    print('\\n ACA COPIAS LA FORMULA DE ABAJO')\n",
    "    \n",
    "    print('\\n (3*%{0}f/8)*(%{0}f+%{0}f+3*%{0}f+3*%{0}f+2*%{0}f)'.format(coma) % (h,fZero,fN,sum1,sum2,sum3))\n",
    "    \n",
    "    T = (3*h/8)*(fZero+fN+3*sum1+3*sum2+2*sum3)\n",
    "    \n",
    "    return T\n",
    "\n",
    "smpsTresOctavos((1,2,3,4,5,6,7,8,9,10),(1.8,2.0,3.0,4.0,6.0,4.0,3.6,3.4,2.8,0.0),1,10,9,0.2)\n"
   ]
  },
  {
   "attachments": {
    "image.png": {
     "image/png": "[encoded data removed]"
    }
   },
   "cell_type": "markdown",
   "id": "1496d621",
   "metadata": {},
   "source": [
    "![image.png](attachment:image.png)"
   ]
  },
  {
   "cell_type": "code",
   "execution_count": 23,
   "id": "c91c2a60",
   "metadata": {},
   "outputs": [],
   "source": [
    "k = R.keys()"
   ]
  }
 ],
 "metadata": {
  "kernelspec": {
   "display_name": "Python 3",
   "language": "python",
   "name": "python3"
  },
  "language_info": {
   "codemirror_mode": {
    "name": "ipython",
    "version": 3
   },
   "file_extension": ".py",
   "mimetype": "text/x-python",
   "name": "python",
   "nbconvert_exporter": "python",
   "pygments_lexer": "ipython3",
   "version": "3.8.3"
  }
 },
 "nbformat": 4,
 "nbformat_minor": 5
}
