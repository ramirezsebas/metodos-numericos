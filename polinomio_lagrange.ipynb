{
 "cells": [
  {
   "cell_type": "code",
   "execution_count": 33,
   "id": "5d201e57",
   "metadata": {},
   "outputs": [
    {
     "name": "stdout",
     "output_type": "stream",
     "text": [
      "[[0.002898550724637681, -0.31304347826086953, 8.405797101449275], [-0.008333333333333333, 0.775, -16.916666666666668], [0.005434782608695652, -0.46195652173913043, 9.510869565217392]]\n"
     ]
    }
   ],
   "source": [
    "def mult_pol(P1, P2):\n",
    "    R = [0]*(len(P1) + len(P2) - 1)\n",
    "    for j in range(len(P2)):\n",
    "        for i in range(len(P1)):\n",
    "            R[i+j] += (P1[i] * P2[j])\n",
    "            \n",
    "    return R\n",
    "\n",
    "def L(X, k):\n",
    "    j = 1 if k == 0 else 0\n",
    "    den = X[k] - X[j]\n",
    "    res = [1/den, -X[j]/den]\n",
    "    elegido = j\n",
    "    for j in range(len(X)):\n",
    "        if j != k and j != elegido:\n",
    "            den = X[k] - X[j]\n",
    "            res = mult_pol(res, [1/den, -X[j]/den])\n",
    "    return res\n",
    "\n",
    "def P(X,n):\n",
    "    Li = []\n",
    "    for i in range(n+1):\n",
    "        Li.append(L(X, i))\n",
    "    print(Li)\n",
    "    \n",
    "X = [35, 50, 58]\n",
    "# L0 = L(X, 0)\n",
    "# print(L0)\n",
    "P(X, 2)"
   ]
  }
 ],
 "metadata": {
  "kernelspec": {
   "display_name": "Python 3",
   "language": "python",
   "name": "python3"
  },
  "language_info": {
   "codemirror_mode": {
    "name": "ipython",
    "version": 3
   },
   "file_extension": ".py",
   "mimetype": "text/x-python",
   "name": "python",
   "nbconvert_exporter": "python",
   "pygments_lexer": "ipython3",
   "version": "3.6.9"
  }
 },
 "nbformat": 4,
 "nbformat_minor": 5
}
