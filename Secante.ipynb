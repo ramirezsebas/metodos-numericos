{
 "cells": [
  {
   "cell_type": "code",
   "execution_count": 15,
   "id": "6d8eda46",
   "metadata": {},
   "outputs": [
    {
     "name": "stdout",
     "output_type": "stream",
     "text": [
      "Ingrese la función: x**3 + 4 * x**2 - 10\n",
      "El valor de la a; del intervalo [a,b]: 1\n",
      "El valor de la b; del intervalo [a,b]: 2\n",
      "El valor del redondeo: 7\n",
      "(1) Especificar iteraciones o (2) Especificar error: 1\n",
      "El número de iteraciones: 4\n",
      "\n",
      "k\tpk\t\tf(pk)\t\teak\n",
      "\n",
      "1\t1.2631579\t-1.6022744\n",
      "\n",
      "2\t1.3388278\t-0.4303647\t0.0756699\n",
      "\n",
      "3\t1.3666164\t0.0229093\t0.0277885\n",
      "\n",
      "4\t1.3652119\t-0.0002991\t0.0014045\n",
      "\n",
      "El resultado es: 1.3652119\n"
     ]
    }
   ],
   "source": [
    "import math\n",
    "\n",
    "def false_position(exp, a, b, iteraciones=None, error=None, red=None):\n",
    "    # obtenemos la funcion en base a la expresion\n",
    "    def f(x):\n",
    "        f = eval(exp)\n",
    "        return f\n",
    "    \n",
    "    p1 = round(a,red) \n",
    "    p2 = round(b,red)\n",
    "    fp1 = round(f(p1),red)\n",
    "    fp2 = round(f(p2),red)\n",
    "    \n",
    "    pkant = round(p2,red)\n",
    "    pk = round((p2-((fp2*(p2-p1))/(fp2-fp1))),red)\n",
    "    fpk = round((f(pk)),red)\n",
    "    eak = abs(round((pk - pkant),red))\n",
    "    \n",
    "    print('\\nk\\tpk\\t\\tf(pk)\\t\\teak')\n",
    "    print('\\n%d\\t%0.7f\\t%0.7f' % (1, pk, fpk))\n",
    "    \n",
    "    p1 = p2\n",
    "    p2 = pk\n",
    "    fp1 = round(f(p1),red)\n",
    "    fp2 = round(f(p2),red)\n",
    "    \n",
    "    if(iteraciones == None):\n",
    "        iteraciones = 20\n",
    "    \n",
    "    for i in range(1, iteraciones):\n",
    "        \n",
    "        pkant = round(p2,red)\n",
    "        pk = round((p2-((fp2*(p2-p1))/(fp2-fp1))),red)\n",
    "        fpk = round((f(pk)),red)\n",
    "        eak = abs(round((pk - pkant),red))\n",
    "        print('\\n%d\\t%{0}f\\t%{0}f\\t%{0}f'.format((red-1)/10) % (i+1, pk, fpk, eak))\n",
    "        \n",
    "        if(error != None and eak<error or pk>b):\n",
    "            break\n",
    "            \n",
    "        p1 = p2\n",
    "        p2 = pk\n",
    "        fp1 = round(f(p1),red)\n",
    "        fp2 = round(f(p2),red)\n",
    "        \n",
    "    return pk\n",
    "\n",
    "# Leemos los valores\n",
    "exp = input(\"Ingrese la función: \")\n",
    "a = float(input(\"El valor de la a; del intervalo [a,b]: \"))\n",
    "b = float(input(\"El valor de la b; del intervalo [a,b]: \"))\n",
    "re = 1+int(input(\"El valor del redondeo: \"))\n",
    "\n",
    "option = int(input(\"(1) Especificar iteraciones o (2) Especificar error: \"))\n",
    "if option == 1:\n",
    "    n = int(input(\"El número de iteraciones: \"))\n",
    "    r = false_position(exp, a, b, iteraciones=n, red = re)\n",
    "else:\n",
    "    e = float(input(\"El valor de la tolerancia: \"))\n",
    "    r = false_position(exp, a, b, error=e, red = re)\n",
    "    \n",
    "#para las Pruebas\n",
    "\"\"\"exp = \"x**3 + 4 * x**2 - 10\"\n",
    "r = false_position(exp, 1, 2, iteraciones=4, red=8)\"\"\"\n",
    "\n",
    "print(\"\\nEl resultado es: %0.7f\" % r)"
   ]
  },
  {
   "cell_type": "code",
   "execution_count": null,
   "id": "c511cea1",
   "metadata": {},
   "outputs": [],
   "source": [
    " "
   ]
  }
 ],
 "metadata": {
  "kernelspec": {
   "display_name": "Python 3",
   "language": "python",
   "name": "python3"
  },
  "language_info": {
   "codemirror_mode": {
    "name": "ipython",
    "version": 3
   },
   "file_extension": ".py",
   "mimetype": "text/x-python",
   "name": "python",
   "nbconvert_exporter": "python",
   "pygments_lexer": "ipython3",
   "version": "3.8.3"
  }
 },
 "nbformat": 4,
 "nbformat_minor": 5
}
